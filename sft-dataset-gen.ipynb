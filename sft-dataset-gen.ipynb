{
 "cells": [
  {
   "cell_type": "code",
   "execution_count": 1,
   "metadata": {},
   "outputs": [
    {
     "name": "stdout",
     "output_type": "stream",
     "text": [
      "/mnt/c/svn\n"
     ]
    }
   ],
   "source": [
    "!pwd"
   ]
  },
  {
   "cell_type": "code",
   "execution_count": 12,
   "metadata": {},
   "outputs": [],
   "source": [
    "import numpy as np\n",
    "import json\n",
    "\n",
    "data_path = 'ng-video-lecture/data/'\n",
    "TOK = 'ПП'\n",
    "dataset = []\n",
    "with open(f'{data_path}parems.txt', 'r') as f:\n",
    "    with open(f'{data_path}parem.json', 'w') as fp:\n",
    "        for line in f:\n",
    "            parem = line.strip('\\r\\n')\n",
    "            parem_list = parem.split(' ')\n",
    "            n = np.random.choice(max(len(parem_list)//2, 1))+1\n",
    "            parem_par = TOK + ' ' + ' '.join(parem_list[:n])\n",
    "            element = {'source': parem_par, 'target': parem}\n",
    "            dataset.append(element)\n",
    "        json.dump(dataset, fp, ensure_ascii=False, indent=2)\n",
    "\n"
   ]
  },
  {
   "cell_type": "code",
   "execution_count": 13,
   "metadata": {},
   "outputs": [],
   "source": [
    "TOK = 'ПФ'\n",
    "dataset = []\n",
    "with open(f'{data_path}parems.txt', 'r') as f:\n",
    "    with open(f'{data_path}reverse.json', 'w') as fp:\n",
    "        for line in f:\n",
    "            line = line.strip('\\r\\n')\n",
    "            reverse = TOK + ' ' + ''.join([w for w in line[::-1]])\n",
    "            element = {'source': reverse, 'target': line} \n",
    "            dataset.append(element)\n",
    "        json.dump(dataset, fp, ensure_ascii=False, indent=2)\n"
   ]
  },
  {
   "cell_type": "code",
   "execution_count": null,
   "metadata": {},
   "outputs": [],
   "source": []
  }
 ],
 "metadata": {
  "kernelspec": {
   "display_name": "Python 3 (ipykernel)",
   "language": "python",
   "name": "python3"
  },
  "language_info": {
   "codemirror_mode": {
    "name": "ipython",
    "version": 3
   },
   "file_extension": ".py",
   "mimetype": "text/x-python",
   "name": "python",
   "nbconvert_exporter": "python",
   "pygments_lexer": "ipython3",
   "version": "3.8.10"
  },
  "orig_nbformat": 4
 },
 "nbformat": 4,
 "nbformat_minor": 2
}
